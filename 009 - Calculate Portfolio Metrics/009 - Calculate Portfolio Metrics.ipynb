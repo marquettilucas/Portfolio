{
 "cells": [
  {
   "cell_type": "markdown",
   "metadata": {},
   "source": [
    "# #009 - Calculate Portfolio Metrics\n",
    "\n",
    "In this code, we'll calculate some metrics as Sharpe Ratio complementing #006, start resuming some functions already defined in prior sections <p>\n",
    "Then, once obatined DF with metrics, shall proceed to Monte Carlo in next code;"
   ]
  },
  {
   "cell_type": "markdown",
   "metadata": {},
   "source": [
    "## libs"
   ]
  },
  {
   "cell_type": "code",
   "execution_count": 1,
   "metadata": {},
   "outputs": [],
   "source": [
    "#import Libraries\n",
    "import pandas as pd\n",
    "from pandas_datareader import data as pdr\n",
    "import numpy as np"
   ]
  },
  {
   "cell_type": "markdown",
   "metadata": {},
   "source": [
    "## Functions"
   ]
  },
  {
   "cell_type": "code",
   "execution_count": 2,
   "metadata": {},
   "outputs": [],
   "source": [
    "def rand_weights(n):\n",
    "    ''' Produces n random weights that sum to 1 '''\n",
    "    k = np.random.rand(n)\n",
    "    return k / sum(k)"
   ]
  },
  {
   "cell_type": "code",
   "execution_count": 3,
   "metadata": {},
   "outputs": [],
   "source": [
    "#Define a function that performs an Asset Allocation\n",
    "def asset_allocation(df, initial_investment, weights):\n",
    "    ''' Performs an asset Allocation for a given DF, initial investment value and weights'''\n",
    "    \n",
    "    portfolio_df = df.copy()\n",
    "    \n",
    "    # Scale stock prices using the \"price_scaling\"\n",
    "    \n",
    "    scaled_df = df.copy()\n",
    "    for i in df.columns[0:]:\n",
    "        scaled_df[i] = df[i]/df[i][0] \n",
    "    \n",
    "    #enumerate method links Stocks tickers in columns along with a counter position weight (i), like an index\n",
    "    for i, stock in enumerate(scaled_df):\n",
    "        portfolio_df[stock] = weights[i] * scaled_df[stock]  * initial_investment\n",
    "    \n",
    "    # Sum up all values and place the result in a new column titled \"portfolio value [$]\" \n",
    "    portfolio_df['Total Value [$]'] = portfolio_df.sum(axis = 1, numeric_only = True)\n",
    "    \n",
    "    # Calculate the portfolio percentage daily return and replace NaNs with zeros\n",
    "    portfolio_df['Daily Return [%]'] = portfolio_df['Total Value [$]'].pct_change(1) * 100 \n",
    "    portfolio_df.replace(np.nan, 0, inplace = True)\n",
    "    \n",
    "    return portfolio_df"
   ]
  },
  {
   "cell_type": "markdown",
   "metadata": {},
   "source": [
    "## 9.1 Read and Organize Data"
   ]
  },
  {
   "cell_type": "code",
   "execution_count": 4,
   "metadata": {},
   "outputs": [
    {
     "name": "stdout",
     "output_type": "stream",
     "text": [
      "Input the CSV file name: MAG7\n",
      "Input the initial investment: 1000000\n",
      "Input the risk free annual rate: 0.039\n"
     ]
    }
   ],
   "source": [
    "file_name = input('Input the CSV file name: ')\n",
    "initial_investment = int(input('Input the initial investment: '))\n",
    "risk_free = float(input('Input the risk free annual rate: ')) # https://ycharts.com/indicators/10_year_treasury_rate \n",
    "\n",
    "# risk_free = 0.0390 #used 10YTCMR - https://ycharts.com/indicators/10_year_treasury_rate\n",
    "# file_name = 'MAG7'\n",
    "# initial_investment = 1000000"
   ]
  },
  {
   "cell_type": "code",
   "execution_count": 5,
   "metadata": {},
   "outputs": [],
   "source": [
    "#read CSV file\n",
    "Stock_Prices_df = pd.read_csv(file_name)\n",
    "#The code imports a DataFrame with num index [1,2,3...], this line replace the colum Date to Index\n",
    "Stock_Prices_df.set_index(['Date'], inplace = True)"
   ]
  },
  {
   "cell_type": "code",
   "execution_count": 6,
   "metadata": {},
   "outputs": [
    {
     "data": {
      "text/plain": [
       "array([0.14285714, 0.14285714, 0.14285714, 0.14285714, 0.14285714,\n",
       "       0.14285714, 0.14285714])"
      ]
     },
     "execution_count": 6,
     "metadata": {},
     "output_type": "execute_result"
    }
   ],
   "source": [
    "#obtain weights vector\n",
    "n_assets = len(Stock_Prices_df.columns)\n",
    "#lock vector to test function, can run with random weights\n",
    "weights = np.ones(n_assets) * 1/n_assets\n",
    "weights     "
   ]
  },
  {
   "attachments": {
    "image-3.png": {
     "image/png": "[encoded data removed]"
    }
   },
   "cell_type": "markdown",
   "metadata": {},
   "source": [
    "![image-3.png](attachment:image-3.png)"
   ]
  },
  {
   "cell_type": "code",
   "execution_count": 7,
   "metadata": {},
   "outputs": [
    {
     "data": {
      "text/html": [
       "<div>\n",
       "<style scoped>\n",
       "    .dataframe tbody tr th:only-of-type {\n",
       "        vertical-align: middle;\n",
       "    }\n",
       "\n",
       "    .dataframe tbody tr th {\n",
       "        vertical-align: top;\n",
       "    }\n",
       "\n",
       "    .dataframe thead th {\n",
       "        text-align: right;\n",
       "    }\n",
       "</style>\n",
       "<table border=\"1\" class=\"dataframe\">\n",
       "  <thead>\n",
       "    <tr style=\"text-align: right;\">\n",
       "      <th></th>\n",
       "      <th>AAPL</th>\n",
       "      <th>AMZN</th>\n",
       "      <th>GOOG</th>\n",
       "      <th>META</th>\n",
       "      <th>MSFT</th>\n",
       "      <th>NVDA</th>\n",
       "      <th>TSLA</th>\n",
       "      <th>Total Value [$]</th>\n",
       "      <th>Daily Return [%]</th>\n",
       "    </tr>\n",
       "    <tr>\n",
       "      <th>Date</th>\n",
       "      <th></th>\n",
       "      <th></th>\n",
       "      <th></th>\n",
       "      <th></th>\n",
       "      <th></th>\n",
       "      <th></th>\n",
       "      <th></th>\n",
       "      <th></th>\n",
       "      <th></th>\n",
       "    </tr>\n",
       "  </thead>\n",
       "  <tbody>\n",
       "    <tr>\n",
       "      <th>2018-12-14</th>\n",
       "      <td>142857.14</td>\n",
       "      <td>142857.14</td>\n",
       "      <td>142857.14</td>\n",
       "      <td>142857.14</td>\n",
       "      <td>142857.14</td>\n",
       "      <td>142857.14</td>\n",
       "      <td>142857.14</td>\n",
       "      <td>1000000.00</td>\n",
       "      <td>0.00</td>\n",
       "    </tr>\n",
       "    <tr>\n",
       "      <th>2018-12-17</th>\n",
       "      <td>141527.72</td>\n",
       "      <td>136485.65</td>\n",
       "      <td>139351.86</td>\n",
       "      <td>139019.46</td>\n",
       "      <td>138626.56</td>\n",
       "      <td>140057.56</td>\n",
       "      <td>136103.16</td>\n",
       "      <td>971171.97</td>\n",
       "      <td>-2.88</td>\n",
       "    </tr>\n",
       "    <tr>\n",
       "      <th>2018-12-18</th>\n",
       "      <td>143366.51</td>\n",
       "      <td>139228.98</td>\n",
       "      <td>141021.57</td>\n",
       "      <td>142460.49</td>\n",
       "      <td>140081.67</td>\n",
       "      <td>143335.15</td>\n",
       "      <td>131653.88</td>\n",
       "      <td>981148.24</td>\n",
       "      <td>1.03</td>\n",
       "    </tr>\n",
       "    <tr>\n",
       "      <th>2018-12-19</th>\n",
       "      <td>138894.71</td>\n",
       "      <td>134167.67</td>\n",
       "      <td>140240.18</td>\n",
       "      <td>132127.49</td>\n",
       "      <td>139704.42</td>\n",
       "      <td>135111.95</td>\n",
       "      <td>130067.93</td>\n",
       "      <td>950314.36</td>\n",
       "      <td>-3.14</td>\n",
       "    </tr>\n",
       "    <tr>\n",
       "      <th>2018-12-20</th>\n",
       "      <td>135389.74</td>\n",
       "      <td>131094.09</td>\n",
       "      <td>138375.81</td>\n",
       "      <td>132286.15</td>\n",
       "      <td>136767.23</td>\n",
       "      <td>131785.59</td>\n",
       "      <td>123196.76</td>\n",
       "      <td>928895.36</td>\n",
       "      <td>-2.25</td>\n",
       "    </tr>\n",
       "    <tr>\n",
       "      <th>...</th>\n",
       "      <td>...</td>\n",
       "      <td>...</td>\n",
       "      <td>...</td>\n",
       "      <td>...</td>\n",
       "      <td>...</td>\n",
       "      <td>...</td>\n",
       "      <td>...</td>\n",
       "      <td>...</td>\n",
       "      <td>...</td>\n",
       "    </tr>\n",
       "    <tr>\n",
       "      <th>2023-12-06</th>\n",
       "      <td>691919.20</td>\n",
       "      <td>259382.95</td>\n",
       "      <td>360343.79</td>\n",
       "      <td>314799.41</td>\n",
       "      <td>523268.68</td>\n",
       "      <td>1789366.03</td>\n",
       "      <td>1402575.00</td>\n",
       "      <td>5341655.05</td>\n",
       "      <td>-1.02</td>\n",
       "    </tr>\n",
       "    <tr>\n",
       "      <th>2023-12-07</th>\n",
       "      <td>698934.80</td>\n",
       "      <td>263618.65</td>\n",
       "      <td>379590.66</td>\n",
       "      <td>323863.07</td>\n",
       "      <td>526319.22</td>\n",
       "      <td>1832347.28</td>\n",
       "      <td>1421735.40</td>\n",
       "      <td>5446409.08</td>\n",
       "      <td>1.96</td>\n",
       "    </tr>\n",
       "    <tr>\n",
       "      <th>2023-12-08</th>\n",
       "      <td>704115.56</td>\n",
       "      <td>264587.83</td>\n",
       "      <td>374628.16</td>\n",
       "      <td>329971.64</td>\n",
       "      <td>530973.02</td>\n",
       "      <td>1868132.27</td>\n",
       "      <td>1428766.72</td>\n",
       "      <td>5501175.19</td>\n",
       "      <td>1.01</td>\n",
       "    </tr>\n",
       "    <tr>\n",
       "      <th>2023-12-11</th>\n",
       "      <td>695013.21</td>\n",
       "      <td>261841.80</td>\n",
       "      <td>369309.22</td>\n",
       "      <td>322564.02</td>\n",
       "      <td>526815.78</td>\n",
       "      <td>1833566.32</td>\n",
       "      <td>1404743.05</td>\n",
       "      <td>5413853.40</td>\n",
       "      <td>-1.59</td>\n",
       "    </tr>\n",
       "    <tr>\n",
       "      <th>2023-12-12</th>\n",
       "      <td>700517.81</td>\n",
       "      <td>264695.51</td>\n",
       "      <td>366403.01</td>\n",
       "      <td>331429.37</td>\n",
       "      <td>531185.83</td>\n",
       "      <td>1874070.25</td>\n",
       "      <td>1388746.71</td>\n",
       "      <td>5457048.49</td>\n",
       "      <td>0.80</td>\n",
       "    </tr>\n",
       "  </tbody>\n",
       "</table>\n",
       "<p>1257 rows × 9 columns</p>\n",
       "</div>"
      ],
      "text/plain": [
       "                 AAPL       AMZN       GOOG       META       MSFT        NVDA  \\\n",
       "Date                                                                            \n",
       "2018-12-14  142857.14  142857.14  142857.14  142857.14  142857.14   142857.14   \n",
       "2018-12-17  141527.72  136485.65  139351.86  139019.46  138626.56   140057.56   \n",
       "2018-12-18  143366.51  139228.98  141021.57  142460.49  140081.67   143335.15   \n",
       "2018-12-19  138894.71  134167.67  140240.18  132127.49  139704.42   135111.95   \n",
       "2018-12-20  135389.74  131094.09  138375.81  132286.15  136767.23   131785.59   \n",
       "...               ...        ...        ...        ...        ...         ...   \n",
       "2023-12-06  691919.20  259382.95  360343.79  314799.41  523268.68  1789366.03   \n",
       "2023-12-07  698934.80  263618.65  379590.66  323863.07  526319.22  1832347.28   \n",
       "2023-12-08  704115.56  264587.83  374628.16  329971.64  530973.02  1868132.27   \n",
       "2023-12-11  695013.21  261841.80  369309.22  322564.02  526815.78  1833566.32   \n",
       "2023-12-12  700517.81  264695.51  366403.01  331429.37  531185.83  1874070.25   \n",
       "\n",
       "                  TSLA  Total Value [$]  Daily Return [%]  \n",
       "Date                                                       \n",
       "2018-12-14   142857.14       1000000.00              0.00  \n",
       "2018-12-17   136103.16        971171.97             -2.88  \n",
       "2018-12-18   131653.88        981148.24              1.03  \n",
       "2018-12-19   130067.93        950314.36             -3.14  \n",
       "2018-12-20   123196.76        928895.36             -2.25  \n",
       "...                ...              ...               ...  \n",
       "2023-12-06  1402575.00       5341655.05             -1.02  \n",
       "2023-12-07  1421735.40       5446409.08              1.96  \n",
       "2023-12-08  1428766.72       5501175.19              1.01  \n",
       "2023-12-11  1404743.05       5413853.40             -1.59  \n",
       "2023-12-12  1388746.71       5457048.49              0.80  \n",
       "\n",
       "[1257 rows x 9 columns]"
      ]
     },
     "execution_count": 7,
     "metadata": {},
     "output_type": "execute_result"
    }
   ],
   "source": [
    "portfolio_df = asset_allocation(Stock_Prices_df, initial_investment, weights)\n",
    "portfolio_df.round(2)"
   ]
  },
  {
   "attachments": {
    "image.png": {
     "image/png": "[encoded data removed]"
    }
   },
   "cell_type": "markdown",
   "metadata": {},
   "source": [
    "![image.png](attachment:image.png)"
   ]
  },
  {
   "cell_type": "markdown",
   "metadata": {},
   "source": [
    "## 9.2 Calcs to Obtain Metrics"
   ]
  },
  {
   "cell_type": "code",
   "execution_count": 8,
   "metadata": {},
   "outputs": [
    {
     "data": {
      "text/html": [
       "<div>\n",
       "<style scoped>\n",
       "    .dataframe tbody tr th:only-of-type {\n",
       "        vertical-align: middle;\n",
       "    }\n",
       "\n",
       "    .dataframe tbody tr th {\n",
       "        vertical-align: top;\n",
       "    }\n",
       "\n",
       "    .dataframe thead th {\n",
       "        text-align: right;\n",
       "    }\n",
       "</style>\n",
       "<table border=\"1\" class=\"dataframe\">\n",
       "  <thead>\n",
       "    <tr style=\"text-align: right;\">\n",
       "      <th></th>\n",
       "      <th>AAPL</th>\n",
       "      <th>AMZN</th>\n",
       "      <th>GOOG</th>\n",
       "      <th>META</th>\n",
       "      <th>MSFT</th>\n",
       "      <th>NVDA</th>\n",
       "      <th>TSLA</th>\n",
       "    </tr>\n",
       "    <tr>\n",
       "      <th>Date</th>\n",
       "      <th></th>\n",
       "      <th></th>\n",
       "      <th></th>\n",
       "      <th></th>\n",
       "      <th></th>\n",
       "      <th></th>\n",
       "      <th></th>\n",
       "    </tr>\n",
       "  </thead>\n",
       "  <tbody>\n",
       "    <tr>\n",
       "      <th>2018-12-14</th>\n",
       "      <td>0.000000</td>\n",
       "      <td>0.000000</td>\n",
       "      <td>0.000000</td>\n",
       "      <td>0.000000</td>\n",
       "      <td>0.000000</td>\n",
       "      <td>0.000000</td>\n",
       "      <td>0.000000</td>\n",
       "    </tr>\n",
       "    <tr>\n",
       "      <th>2018-12-17</th>\n",
       "      <td>-0.009306</td>\n",
       "      <td>-0.044600</td>\n",
       "      <td>-0.024537</td>\n",
       "      <td>-0.026864</td>\n",
       "      <td>-0.029614</td>\n",
       "      <td>-0.019597</td>\n",
       "      <td>-0.047278</td>\n",
       "    </tr>\n",
       "    <tr>\n",
       "      <th>2018-12-18</th>\n",
       "      <td>0.012992</td>\n",
       "      <td>0.020100</td>\n",
       "      <td>0.011982</td>\n",
       "      <td>0.024752</td>\n",
       "      <td>0.010497</td>\n",
       "      <td>0.023402</td>\n",
       "      <td>-0.032690</td>\n",
       "    </tr>\n",
       "    <tr>\n",
       "      <th>2018-12-19</th>\n",
       "      <td>-0.031191</td>\n",
       "      <td>-0.036352</td>\n",
       "      <td>-0.005541</td>\n",
       "      <td>-0.072532</td>\n",
       "      <td>-0.002693</td>\n",
       "      <td>-0.057370</td>\n",
       "      <td>-0.012046</td>\n",
       "    </tr>\n",
       "    <tr>\n",
       "      <th>2018-12-20</th>\n",
       "      <td>-0.025235</td>\n",
       "      <td>-0.022908</td>\n",
       "      <td>-0.013294</td>\n",
       "      <td>0.001201</td>\n",
       "      <td>-0.021024</td>\n",
       "      <td>-0.024619</td>\n",
       "      <td>-0.052828</td>\n",
       "    </tr>\n",
       "    <tr>\n",
       "      <th>...</th>\n",
       "      <td>...</td>\n",
       "      <td>...</td>\n",
       "      <td>...</td>\n",
       "      <td>...</td>\n",
       "      <td>...</td>\n",
       "      <td>...</td>\n",
       "      <td>...</td>\n",
       "    </tr>\n",
       "    <tr>\n",
       "      <th>2023-12-06</th>\n",
       "      <td>-0.005687</td>\n",
       "      <td>-0.016068</td>\n",
       "      <td>-0.007251</td>\n",
       "      <td>-0.002639</td>\n",
       "      <td>-0.009986</td>\n",
       "      <td>-0.022828</td>\n",
       "      <td>0.002723</td>\n",
       "    </tr>\n",
       "    <tr>\n",
       "      <th>2023-12-07</th>\n",
       "      <td>0.010139</td>\n",
       "      <td>0.016330</td>\n",
       "      <td>0.053412</td>\n",
       "      <td>0.028792</td>\n",
       "      <td>0.005830</td>\n",
       "      <td>0.024020</td>\n",
       "      <td>0.013661</td>\n",
       "    </tr>\n",
       "    <tr>\n",
       "      <th>2023-12-08</th>\n",
       "      <td>0.007412</td>\n",
       "      <td>0.003676</td>\n",
       "      <td>-0.013073</td>\n",
       "      <td>0.018862</td>\n",
       "      <td>0.008842</td>\n",
       "      <td>0.019530</td>\n",
       "      <td>0.004946</td>\n",
       "    </tr>\n",
       "    <tr>\n",
       "      <th>2023-12-11</th>\n",
       "      <td>-0.012927</td>\n",
       "      <td>-0.010379</td>\n",
       "      <td>-0.014198</td>\n",
       "      <td>-0.022449</td>\n",
       "      <td>-0.007829</td>\n",
       "      <td>-0.018503</td>\n",
       "      <td>-0.016814</td>\n",
       "    </tr>\n",
       "    <tr>\n",
       "      <th>2023-12-12</th>\n",
       "      <td>0.007920</td>\n",
       "      <td>0.010899</td>\n",
       "      <td>-0.007869</td>\n",
       "      <td>0.027484</td>\n",
       "      <td>0.008295</td>\n",
       "      <td>0.022090</td>\n",
       "      <td>-0.011387</td>\n",
       "    </tr>\n",
       "  </tbody>\n",
       "</table>\n",
       "<p>1257 rows × 7 columns</p>\n",
       "</div>"
      ],
      "text/plain": [
       "                AAPL      AMZN      GOOG      META      MSFT      NVDA  \\\n",
       "Date                                                                     \n",
       "2018-12-14  0.000000  0.000000  0.000000  0.000000  0.000000  0.000000   \n",
       "2018-12-17 -0.009306 -0.044600 -0.024537 -0.026864 -0.029614 -0.019597   \n",
       "2018-12-18  0.012992  0.020100  0.011982  0.024752  0.010497  0.023402   \n",
       "2018-12-19 -0.031191 -0.036352 -0.005541 -0.072532 -0.002693 -0.057370   \n",
       "2018-12-20 -0.025235 -0.022908 -0.013294  0.001201 -0.021024 -0.024619   \n",
       "...              ...       ...       ...       ...       ...       ...   \n",
       "2023-12-06 -0.005687 -0.016068 -0.007251 -0.002639 -0.009986 -0.022828   \n",
       "2023-12-07  0.010139  0.016330  0.053412  0.028792  0.005830  0.024020   \n",
       "2023-12-08  0.007412  0.003676 -0.013073  0.018862  0.008842  0.019530   \n",
       "2023-12-11 -0.012927 -0.010379 -0.014198 -0.022449 -0.007829 -0.018503   \n",
       "2023-12-12  0.007920  0.010899 -0.007869  0.027484  0.008295  0.022090   \n",
       "\n",
       "                TSLA  \n",
       "Date                  \n",
       "2018-12-14  0.000000  \n",
       "2018-12-17 -0.047278  \n",
       "2018-12-18 -0.032690  \n",
       "2018-12-19 -0.012046  \n",
       "2018-12-20 -0.052828  \n",
       "...              ...  \n",
       "2023-12-06  0.002723  \n",
       "2023-12-07  0.013661  \n",
       "2023-12-08  0.004946  \n",
       "2023-12-11 -0.016814  \n",
       "2023-12-12 -0.011387  \n",
       "\n",
       "[1257 rows x 7 columns]"
      ]
     },
     "execution_count": 8,
     "metadata": {},
     "output_type": "execute_result"
    }
   ],
   "source": [
    " # Daily change of every stock in the portfolio - only for stock positions, so we drop total an daily portfolio return\n",
    "portfolio_daily_return_df = portfolio_df.drop(columns = ['Total Value [$]', 'Daily Return [%]'])\n",
    "portfolio_daily_return_df = portfolio_daily_return_df.pct_change(1)\n",
    "portfolio_daily_return_df.replace(np.nan, 0, inplace = True) \n",
    "portfolio_daily_return_df"
   ]
  },
  {
   "attachments": {
    "image.png": {
     "image/png": "[encoded data removed]"
    }
   },
   "cell_type": "markdown",
   "metadata": {},
   "source": [
    "![image.png](attachment:image.png)"
   ]
  },
  {
   "attachments": {
    "image.png": {
     "image/png": "[encoded data removed]"
    }
   },
   "cell_type": "markdown",
   "metadata": {},
   "source": [
    "![image.png](attachment:image.png)"
   ]
  },
  {
   "cell_type": "code",
   "execution_count": 9,
   "metadata": {},
   "outputs": [
    {
     "data": {
      "text/plain": [
       "38.5071"
      ]
     },
     "execution_count": 9,
     "metadata": {},
     "output_type": "execute_result"
    }
   ],
   "source": [
    "  # Portfolio Expected Return \n",
    "expected_portfolio_return = np.sum(weights * portfolio_daily_return_df.mean() ) * 252\n",
    "expected_portfolio_return.round(6)*100"
   ]
  },
  {
   "cell_type": "code",
   "execution_count": 10,
   "metadata": {},
   "outputs": [
    {
     "data": {
      "text/html": [
       "<div>\n",
       "<style scoped>\n",
       "    .dataframe tbody tr th:only-of-type {\n",
       "        vertical-align: middle;\n",
       "    }\n",
       "\n",
       "    .dataframe tbody tr th {\n",
       "        vertical-align: top;\n",
       "    }\n",
       "\n",
       "    .dataframe thead th {\n",
       "        text-align: right;\n",
       "    }\n",
       "</style>\n",
       "<table border=\"1\" class=\"dataframe\">\n",
       "  <thead>\n",
       "    <tr style=\"text-align: right;\">\n",
       "      <th></th>\n",
       "      <th>AAPL</th>\n",
       "      <th>AMZN</th>\n",
       "      <th>GOOG</th>\n",
       "      <th>META</th>\n",
       "      <th>MSFT</th>\n",
       "      <th>NVDA</th>\n",
       "      <th>TSLA</th>\n",
       "    </tr>\n",
       "  </thead>\n",
       "  <tbody>\n",
       "    <tr>\n",
       "      <th>AAPL</th>\n",
       "      <td>0.105644</td>\n",
       "      <td>0.072749</td>\n",
       "      <td>0.070442</td>\n",
       "      <td>0.085524</td>\n",
       "      <td>0.076245</td>\n",
       "      <td>0.111451</td>\n",
       "      <td>0.103910</td>\n",
       "    </tr>\n",
       "    <tr>\n",
       "      <th>AMZN</th>\n",
       "      <td>0.072749</td>\n",
       "      <td>0.127379</td>\n",
       "      <td>0.076120</td>\n",
       "      <td>0.097338</td>\n",
       "      <td>0.075505</td>\n",
       "      <td>0.112075</td>\n",
       "      <td>0.102445</td>\n",
       "    </tr>\n",
       "    <tr>\n",
       "      <th>GOOG</th>\n",
       "      <td>0.070442</td>\n",
       "      <td>0.076120</td>\n",
       "      <td>0.102256</td>\n",
       "      <td>0.094860</td>\n",
       "      <td>0.074480</td>\n",
       "      <td>0.104029</td>\n",
       "      <td>0.085506</td>\n",
       "    </tr>\n",
       "    <tr>\n",
       "      <th>META</th>\n",
       "      <td>0.085524</td>\n",
       "      <td>0.097338</td>\n",
       "      <td>0.094860</td>\n",
       "      <td>0.193874</td>\n",
       "      <td>0.084222</td>\n",
       "      <td>0.126981</td>\n",
       "      <td>0.100719</td>\n",
       "    </tr>\n",
       "    <tr>\n",
       "      <th>MSFT</th>\n",
       "      <td>0.076245</td>\n",
       "      <td>0.075505</td>\n",
       "      <td>0.074480</td>\n",
       "      <td>0.084222</td>\n",
       "      <td>0.094658</td>\n",
       "      <td>0.112895</td>\n",
       "      <td>0.091938</td>\n",
       "    </tr>\n",
       "    <tr>\n",
       "      <th>NVDA</th>\n",
       "      <td>0.111451</td>\n",
       "      <td>0.112075</td>\n",
       "      <td>0.104029</td>\n",
       "      <td>0.126981</td>\n",
       "      <td>0.112895</td>\n",
       "      <td>0.269698</td>\n",
       "      <td>0.169340</td>\n",
       "    </tr>\n",
       "    <tr>\n",
       "      <th>TSLA</th>\n",
       "      <td>0.103910</td>\n",
       "      <td>0.102445</td>\n",
       "      <td>0.085506</td>\n",
       "      <td>0.100719</td>\n",
       "      <td>0.091938</td>\n",
       "      <td>0.169340</td>\n",
       "      <td>0.423703</td>\n",
       "    </tr>\n",
       "  </tbody>\n",
       "</table>\n",
       "</div>"
      ],
      "text/plain": [
       "          AAPL      AMZN      GOOG      META      MSFT      NVDA      TSLA\n",
       "AAPL  0.105644  0.072749  0.070442  0.085524  0.076245  0.111451  0.103910\n",
       "AMZN  0.072749  0.127379  0.076120  0.097338  0.075505  0.112075  0.102445\n",
       "GOOG  0.070442  0.076120  0.102256  0.094860  0.074480  0.104029  0.085506\n",
       "META  0.085524  0.097338  0.094860  0.193874  0.084222  0.126981  0.100719\n",
       "MSFT  0.076245  0.075505  0.074480  0.084222  0.094658  0.112895  0.091938\n",
       "NVDA  0.111451  0.112075  0.104029  0.126981  0.112895  0.269698  0.169340\n",
       "TSLA  0.103910  0.102445  0.085506  0.100719  0.091938  0.169340  0.423703"
      ]
     },
     "execution_count": 10,
     "metadata": {},
     "output_type": "execute_result"
    }
   ],
   "source": [
    "#obtain covariance Matrix\n",
    "covariance = portfolio_daily_return_df.cov() * 252\n",
    "covariance"
   ]
  },
  {
   "attachments": {
    "image.png": {
     "image/png": "[encoded data removed]"
    }
   },
   "cell_type": "markdown",
   "metadata": {},
   "source": [
    "![image.png](attachment:image.png)"
   ]
  },
  {
   "cell_type": "code",
   "execution_count": 11,
   "metadata": {},
   "outputs": [
    {
     "data": {
      "text/plain": [
       "33.12"
      ]
     },
     "execution_count": 11,
     "metadata": {},
     "output_type": "execute_result"
    }
   ],
   "source": [
    "# Portfolio standard deviation, volatility (risk)\n",
    "expected_volatility = np.sqrt(np.dot(weights.T, np.dot(covariance, weights)))\n",
    "expected_volatility.round(4)*100"
   ]
  },
  {
   "cell_type": "code",
   "execution_count": 12,
   "metadata": {},
   "outputs": [
    {
     "data": {
      "text/plain": [
       "1.04"
      ]
     },
     "execution_count": 12,
     "metadata": {},
     "output_type": "execute_result"
    }
   ],
   "source": [
    "# Calculate Sharpe ratio\n",
    "sharpe_ratio = (expected_portfolio_return - risk_free)/expected_volatility\n",
    "sharpe_ratio.round(2)"
   ]
  },
  {
   "cell_type": "markdown",
   "metadata": {},
   "source": [
    "## 9.3 Define a Function to Obtain Metrics (2 steps)"
   ]
  },
  {
   "cell_type": "code",
   "execution_count": 13,
   "metadata": {},
   "outputs": [],
   "source": [
    "def run_portfolio(weights, initial_investment, risk_free):\n",
    "    # Perform asset allocation using the random weights (sent as arguments to the function)\n",
    "    portfolio_df =  asset_allocation(Stock_Prices_df, initial_investment, weights)\n",
    "  \n",
    "    # Calculate the return on the investment \n",
    "    # Return on investment is calculated using the last final value of the portfolio compared to its initial value\n",
    "    return_on_investment = ((portfolio_df['Total Value [$]'][-1:] - portfolio_df['Total Value [$]'][0]) / portfolio_df['Total Value [$]'][0]) * 100\n",
    "  \n",
    "    # Daily change of every stock in the portfolio\n",
    "    portfolio_daily_return_df = portfolio_df.drop(columns = ['Total Value [$]', 'Daily Return [%]'])\n",
    "    portfolio_daily_return_df = portfolio_daily_return_df.pct_change(1)\n",
    "    portfolio_daily_return_df.replace(np.nan, 0, inplace = True) \n",
    "  \n",
    "    # Portfolio Expected Return formula\n",
    "    expected_portfolio_return = np.sum(weights * portfolio_daily_return_df.mean() ) * 252\n",
    "  \n",
    "    # Portfolio standard deviation, volatility (risk)\n",
    "    covariance = portfolio_daily_return_df.cov() * 252 \n",
    "    expected_volatility = np.sqrt(np.dot(weights.T, np.dot(covariance, weights)))\n",
    "\n",
    "    # Calculate Sharpe ratio\n",
    "    sharpe_ratio = (expected_portfolio_return - risk_free)/expected_volatility \n",
    "    return expected_portfolio_return, expected_volatility, sharpe_ratio, portfolio_df['Total Value [$]'][-1:].values[0], return_on_investment.values[0]"
   ]
  },
  {
   "cell_type": "code",
   "execution_count": 14,
   "metadata": {},
   "outputs": [],
   "source": [
    "portfolio_metrics = run_portfolio(weights, initial_investment, risk_free)"
   ]
  },
  {
   "cell_type": "code",
   "execution_count": 15,
   "metadata": {},
   "outputs": [
    {
     "name": "stdout",
     "output_type": "stream",
     "text": [
      "Expected Portfolio Annual Return = 38.51%\n",
      "Portfolio Standard Deviation (Volatility) = 33.12%\n",
      "Sharpe Ratio = 1.04\n",
      "Portfolio Final Value = $5457048.49\n",
      "Return on Investment = 445.70%\n"
     ]
    }
   ],
   "source": [
    "print('Expected Portfolio Annual Return = {:.2f}%'.format(portfolio_metrics[0] * 100))\n",
    "print('Portfolio Standard Deviation (Volatility) = {:.2f}%'.format(portfolio_metrics[1] * 100))\n",
    "print('Sharpe Ratio = {:.2f}'.format(portfolio_metrics[2]))\n",
    "print('Portfolio Final Value = ${:.2f}'.format(portfolio_metrics[3]))\n",
    "print('Return on Investment = {:.2f}%'.format(portfolio_metrics[4]))"
   ]
  },
  {
   "cell_type": "markdown",
   "metadata": {},
   "source": [
    "## 9.4 Define a Function for Asset Alocation and Obtain Metrics (1 Step)"
   ]
  },
  {
   "cell_type": "code",
   "execution_count": 16,
   "metadata": {},
   "outputs": [],
   "source": [
    "#Include Asset_Allocation Function in run_portfolio\n",
    "# The function returns: \n",
    "    # (0) Portfolio Data Frame \n",
    "    # (1) Expected portfolio return \n",
    "    # (2) Expected volatility \n",
    "    # (3) Sharpe ratio \n",
    "    # (4) Return on investment \n",
    "    # (5) Final portfolio value in dollars\n",
    "    \n",
    "def run_portfolio(df, weights, initial_investment, risk_free):\n",
    "    ''' Performs an asset allocation and calc Portfolio Metrics'''\n",
    "    # Perform asset allocation using the random weights (sent as arguments to the function)\n",
    "    portfolio_df =  df.copy()\n",
    "    # Scale stock prices using the \"price_scaling\"\n",
    "    scaled_df = df.copy()\n",
    "    for i in df.columns[0:]:\n",
    "        scaled_df[i] = df[i]/df[i][0]\n",
    "    #enumerate method links Stocks tickers in columns along with a counter position weight (i), like an index\n",
    "    for i, stock in enumerate(scaled_df):\n",
    "        portfolio_df[stock] = weights[i] * scaled_df[stock]  * initial_investment\n",
    "    \n",
    "    # Sum up all values and place the result in a new column titled \"portfolio value [$]\" \n",
    "    portfolio_df['Total Value [$]'] = portfolio_df.sum(axis = 1, numeric_only = True)\n",
    "    \n",
    "    # Calculate the portfolio percentage daily return and replace NaNs with zeros\n",
    "    portfolio_df['Daily Return [%]'] = portfolio_df['Total Value [$]'].pct_change(1) * 100 \n",
    "    portfolio_df.replace(np.nan, 0, inplace = True)\n",
    "     \n",
    "    # Calculate the return on the investment \n",
    "    # Return on investment is calculated using the last final value of the portfolio compared to its initial value\n",
    "    return_on_investment = ((portfolio_df['Total Value [$]'][-1:] - portfolio_df['Total Value [$]'][0]) \n",
    "                            / portfolio_df['Total Value [$]'][0]) * 100\n",
    "  \n",
    "    # Daily change of every stock in the portfolio \n",
    "    portfolio_daily_return_df = portfolio_df.drop(columns = ['Total Value [$]', 'Daily Return [%]'])\n",
    "    portfolio_daily_return_df = portfolio_daily_return_df.pct_change(1)\n",
    "    portfolio_daily_return_df.replace(np.nan, 0, inplace = True)  \n",
    "  \n",
    "    # Portfolio Expected Return formula\n",
    "    expected_portfolio_return = np.sum(weights * portfolio_daily_return_df.mean() ) * 252\n",
    "  \n",
    "    # Portfolio standard deviation, volatility (risk)\n",
    "    covariance = portfolio_daily_return_df.cov() * 252 \n",
    "    expected_volatility = np.sqrt(np.dot(weights.T, np.dot(covariance, weights)))\n",
    "    \n",
    "    # Calculate Sharpe ratio\n",
    "    sharpe_ratio = (expected_portfolio_return - risk_free)/expected_volatility \n",
    "    \n",
    "    return portfolio_df, expected_portfolio_return, expected_volatility, sharpe_ratio, portfolio_df['Total Value [$]'][-1:].values[0], return_on_investment.values[0]"
   ]
  },
  {
   "cell_type": "code",
   "execution_count": 17,
   "metadata": {},
   "outputs": [],
   "source": [
    "portfolio_metrics = run_portfolio(Stock_Prices_df, weights, initial_investment, risk_free)"
   ]
  },
  {
   "cell_type": "code",
   "execution_count": 18,
   "metadata": {},
   "outputs": [
    {
     "name": "stdout",
     "output_type": "stream",
     "text": [
      "Expected Portfolio Annual Return = 38.51%\n",
      "Portfolio Standard Deviation (Volatility) = 33.12%\n",
      "Sharpe Ratio = 1.04\n",
      "Portfolio Final Value = $5457048.49\n",
      "Return on Investment = 445.70%\n"
     ]
    }
   ],
   "source": [
    "print('Expected Portfolio Annual Return = {:.2f}%'.format(portfolio_metrics[1] * 100))\n",
    "print('Portfolio Standard Deviation (Volatility) = {:.2f}%'.format(portfolio_metrics[2] * 100))\n",
    "print('Sharpe Ratio = {:.2f}'.format(portfolio_metrics[3]))\n",
    "print('Portfolio Final Value = ${:.2f}'.format(portfolio_metrics[4]))\n",
    "print('Return on Investment = {:.2f}%'.format(portfolio_metrics[5]))"
   ]
  }
 ],
 "metadata": {
  "kernelspec": {
   "display_name": "Python 3 (ipykernel)",
   "language": "python",
   "name": "python3"
  },
  "language_info": {
   "codemirror_mode": {
    "name": "ipython",
    "version": 3
   },
   "file_extension": ".py",
   "mimetype": "text/x-python",
   "name": "python",
   "nbconvert_exporter": "python",
   "pygments_lexer": "ipython3",
   "version": "3.11.5"
  }
 },
 "nbformat": 4,
 "nbformat_minor": 2
}
